{
 "cells": [
  {
   "cell_type": "code",
   "execution_count": 1,
   "id": "d7475a14",
   "metadata": {},
   "outputs": [],
   "source": [
    "import numpy as np\n",
    "import pandas as pd\n",
    "import os\n",
    "from sklearn.model_selection import train_test_split"
   ]
  },
  {
   "cell_type": "markdown",
   "id": "281f6052",
   "metadata": {},
   "source": [
    "### Importing data"
   ]
  },
  {
   "cell_type": "code",
   "execution_count": 2,
   "id": "192fc568",
   "metadata": {},
   "outputs": [],
   "source": [
    "# exporting full processes data because later we will manipulate all the features\n",
    "emp_data = pd.read_csv('processed_emp_data.csv').drop('Unnamed: 0', axis = 'columns')"
   ]
  },
  {
   "cell_type": "code",
   "execution_count": 3,
   "id": "aa5ba523",
   "metadata": {},
   "outputs": [],
   "source": [
    "columns_to_drop = ['CustomerId','Surname','CreditScore','Age','Tenure', 'EstimatedSalary']\n",
    "df = emp_data.drop(columns_to_drop, axis = 1)\n",
    "\n",
    "X = df.drop(['Exited'], axis=1).values\n",
    "y = df['Exited'].values"
   ]
  },
  {
   "cell_type": "markdown",
   "id": "9886416f",
   "metadata": {},
   "source": [
    "### Train the models"
   ]
  },
  {
   "cell_type": "code",
   "execution_count": 4,
   "id": "e98b4449",
   "metadata": {},
   "outputs": [
    {
     "name": "stdout",
     "output_type": "stream",
     "text": [
      "finish\n"
     ]
    }
   ],
   "source": [
    "import Milestone2_choose_model"
   ]
  },
  {
   "cell_type": "code",
   "execution_count": 6,
   "id": "41b7bf7b",
   "metadata": {},
   "outputs": [
    {
     "name": "stdout",
     "output_type": "stream",
     "text": [
      " ---------------------- Splitting train and test dataset : 0.7 ~ 0.3 ------------- \n",
      "\n",
      " ---------------------  Trying different models ----------------------\n",
      " \n",
      "The accuracy of model DecisionTreeClassifier is 0.79\n",
      "              precision    recall  f1-score   support\n",
      "\n",
      "           0       0.88      0.86      0.87      2403\n",
      "           1       0.47      0.51      0.49       597\n",
      "\n",
      "    accuracy                           0.79      3000\n",
      "   macro avg       0.67      0.68      0.68      3000\n",
      "weighted avg       0.79      0.79      0.79      3000\n",
      "\n",
      "\n",
      "\n",
      "The accuracy of model RandomForestClassifier is 0.84\n",
      "              precision    recall  f1-score   support\n",
      "\n",
      "           0       0.87      0.94      0.91      2403\n",
      "           1       0.65      0.45      0.53       597\n",
      "\n",
      "    accuracy                           0.84      3000\n",
      "   macro avg       0.76      0.69      0.72      3000\n",
      "weighted avg       0.83      0.84      0.83      3000\n",
      "\n",
      "\n",
      "\n",
      "The accuracy of model KNeighborsClassifier is 0.81\n",
      "              precision    recall  f1-score   support\n",
      "\n",
      "           0       0.84      0.94      0.89      2403\n",
      "           1       0.54      0.28      0.37       597\n",
      "\n",
      "    accuracy                           0.81      3000\n",
      "   macro avg       0.69      0.61      0.63      3000\n",
      "weighted avg       0.78      0.81      0.78      3000\n",
      "\n",
      "\n",
      "\n",
      "The accuracy of model SVC is 0.85\n",
      "              precision    recall  f1-score   support\n",
      "\n",
      "           0       0.87      0.96      0.91      2403\n",
      "           1       0.73      0.43      0.54       597\n",
      "\n",
      "    accuracy                           0.85      3000\n",
      "   macro avg       0.80      0.69      0.73      3000\n",
      "weighted avg       0.84      0.85      0.84      3000\n",
      "\n",
      "\n",
      "\n",
      "The accuracy of model LogisticRegression is 0.83\n",
      "              precision    recall  f1-score   support\n",
      "\n",
      "           0       0.85      0.96      0.90      2403\n",
      "           1       0.65      0.29      0.40       597\n",
      "\n",
      "    accuracy                           0.83      3000\n",
      "   macro avg       0.75      0.63      0.65      3000\n",
      "weighted avg       0.81      0.83      0.80      3000\n",
      "\n",
      "\n",
      "\n",
      " --------------------- Chose the model based on the accuracy ------------------\n",
      "\n",
      "\n",
      "----------- Started training with SVC and tuning hyper paramters -------------- \n",
      "\n",
      "Best: 0.855333 using {'kernel': 'rbf'}\n",
      "Best-score: 0.8553333333333335\n",
      "train-acc:  0.8632857142857143\n",
      "test-acc: 0.855\n",
      " \n",
      " ------------------- Saved the model into repository --------------\n"
     ]
    }
   ],
   "source": [
    "Milestone2_choose_model.train_save_model(X, y)"
   ]
  },
  {
   "cell_type": "markdown",
   "id": "025ce64b",
   "metadata": {},
   "source": [
    "#### Trying on different feature input data"
   ]
  },
  {
   "cell_type": "code",
   "execution_count": 7,
   "id": "c034f6a2",
   "metadata": {},
   "outputs": [
    {
     "data": {
      "text/plain": [
       "Index(['CustomerId', 'Surname', 'CreditScore', 'Age', 'Tenure', 'Balance',\n",
       "       'NumOfProducts', 'HasCrCard', 'IsActiveMember', 'EstimatedSalary',\n",
       "       'Exited', 'bad', 'medium', 'good', 'Female', 'Male', 'France',\n",
       "       'Germany', 'Spain', 'a_<=25', 'b_26-33', 'c_34-45', 'd_46-55', 'e_>=55',\n",
       "       'credit_(349.999, 566.0]', 'credit_(566.0, 627.0]',\n",
       "       'credit_(627.0, 678.0]', 'credit_(678.0, 735.0]',\n",
       "       'credit_(735.0, 850.0]', 'tenure_(-0.001, 2.0]', 'tenure_(2.0, 4.0]',\n",
       "       'tenure_(4.0, 6.0]', 'tenure_(6.0, 8.0]', 'tenure_(8.0, 10.0]'],\n",
       "      dtype='object')"
      ]
     },
     "execution_count": 7,
     "metadata": {},
     "output_type": "execute_result"
    }
   ],
   "source": [
    "emp_data.columns"
   ]
  },
  {
   "cell_type": "code",
   "execution_count": 8,
   "id": "76ee3c56",
   "metadata": {},
   "outputs": [],
   "source": [
    "df = emp_data[['CreditScore','Balance',\n",
    "       'NumOfProducts', 'HasCrCard', 'Age','IsActiveMember', 'EstimatedSalary',\n",
    "       'Exited',  'Male', 'France','Germany', 'Spain', 'Tenure', \n",
    "       'credit_(349.999, 566.0]', 'credit_(566.0, 627.0]',\n",
    "       'credit_(627.0, 678.0]', 'credit_(678.0, 735.0]', 'credit_(735.0, 850.0]']]\n",
    "\n",
    "X = df.drop(['Exited'], axis=1).values\n",
    "y = df['Exited'].values"
   ]
  },
  {
   "cell_type": "code",
   "execution_count": 10,
   "id": "505c1176",
   "metadata": {},
   "outputs": [
    {
     "name": "stdout",
     "output_type": "stream",
     "text": [
      " ---------------------- Splitting train and test dataset : 0.7 ~ 0.3 ------------- \n",
      "\n",
      " ---------------------  Trying different models ----------------------\n",
      " \n",
      "The accuracy of model DecisionTreeClassifier is 0.79\n",
      "              precision    recall  f1-score   support\n",
      "\n",
      "           0       0.88      0.86      0.87      2403\n",
      "           1       0.48      0.52      0.50       597\n",
      "\n",
      "    accuracy                           0.79      3000\n",
      "   macro avg       0.68      0.69      0.68      3000\n",
      "weighted avg       0.80      0.79      0.79      3000\n",
      "\n",
      "\n",
      "\n",
      "The accuracy of model RandomForestClassifier is 0.86\n",
      "              precision    recall  f1-score   support\n",
      "\n",
      "           0       0.88      0.96      0.92      2403\n",
      "           1       0.73      0.46      0.57       597\n",
      "\n",
      "    accuracy                           0.86      3000\n",
      "   macro avg       0.80      0.71      0.74      3000\n",
      "weighted avg       0.85      0.86      0.85      3000\n",
      "\n",
      "\n",
      "\n",
      "The accuracy of model KNeighborsClassifier is 0.79\n",
      "              precision    recall  f1-score   support\n",
      "\n",
      "           0       0.83      0.92      0.87      2403\n",
      "           1       0.44      0.24      0.31       597\n",
      "\n",
      "    accuracy                           0.79      3000\n",
      "   macro avg       0.63      0.58      0.59      3000\n",
      "weighted avg       0.75      0.79      0.76      3000\n",
      "\n",
      "\n",
      "\n"
     ]
    },
    {
     "name": "stderr",
     "output_type": "stream",
     "text": [
      "/opt/anaconda3/lib/python3.8/site-packages/sklearn/metrics/_classification.py:1245: UndefinedMetricWarning: Precision and F-score are ill-defined and being set to 0.0 in labels with no predicted samples. Use `zero_division` parameter to control this behavior.\n",
      "  _warn_prf(average, modifier, msg_start, len(result))\n",
      "/opt/anaconda3/lib/python3.8/site-packages/sklearn/metrics/_classification.py:1245: UndefinedMetricWarning: Precision and F-score are ill-defined and being set to 0.0 in labels with no predicted samples. Use `zero_division` parameter to control this behavior.\n",
      "  _warn_prf(average, modifier, msg_start, len(result))\n",
      "/opt/anaconda3/lib/python3.8/site-packages/sklearn/metrics/_classification.py:1245: UndefinedMetricWarning: Precision and F-score are ill-defined and being set to 0.0 in labels with no predicted samples. Use `zero_division` parameter to control this behavior.\n",
      "  _warn_prf(average, modifier, msg_start, len(result))\n",
      "/opt/anaconda3/lib/python3.8/site-packages/sklearn/linear_model/_logistic.py:763: ConvergenceWarning: lbfgs failed to converge (status=1):\n",
      "STOP: TOTAL NO. of ITERATIONS REACHED LIMIT.\n",
      "\n",
      "Increase the number of iterations (max_iter) or scale the data as shown in:\n",
      "    https://scikit-learn.org/stable/modules/preprocessing.html\n",
      "Please also refer to the documentation for alternative solver options:\n",
      "    https://scikit-learn.org/stable/modules/linear_model.html#logistic-regression\n",
      "  n_iter_i = _check_optimize_result(\n"
     ]
    },
    {
     "name": "stdout",
     "output_type": "stream",
     "text": [
      "The accuracy of model SVC is 0.80\n",
      "              precision    recall  f1-score   support\n",
      "\n",
      "           0       0.80      1.00      0.89      2403\n",
      "           1       0.00      0.00      0.00       597\n",
      "\n",
      "    accuracy                           0.80      3000\n",
      "   macro avg       0.40      0.50      0.44      3000\n",
      "weighted avg       0.64      0.80      0.71      3000\n",
      "\n",
      "\n",
      "\n",
      "The accuracy of model LogisticRegression is 0.82\n",
      "              precision    recall  f1-score   support\n",
      "\n",
      "           0       0.83      0.97      0.89      2403\n",
      "           1       0.61      0.22      0.32       597\n",
      "\n",
      "    accuracy                           0.82      3000\n",
      "   macro avg       0.72      0.59      0.61      3000\n",
      "weighted avg       0.79      0.82      0.78      3000\n",
      "\n",
      "\n",
      "\n",
      " --------------------- Chose the model based on the accuracy ------------------\n",
      "\n",
      "\n",
      "----------- Started training with Random forest classifier and tuning hyper paramters -------------- \n",
      "\n",
      "Best: 0.864286 using {'max_features': 'sqrt', 'n_estimators': 1000}\n",
      "Best-score: 0.8642857142857142\n",
      "train-acc:  1.0\n",
      "test-acc: 0.857\n",
      " \n",
      " ------------------- Saved the model into repository --------------\n"
     ]
    }
   ],
   "source": [
    "Milestone2_choose_model.train_save_model(X, y)"
   ]
  },
  {
   "cell_type": "code",
   "execution_count": null,
   "id": "8e51d254",
   "metadata": {},
   "outputs": [],
   "source": []
  }
 ],
 "metadata": {
  "kernelspec": {
   "display_name": "Python 3",
   "language": "python",
   "name": "python3"
  },
  "language_info": {
   "codemirror_mode": {
    "name": "ipython",
    "version": 3
   },
   "file_extension": ".py",
   "mimetype": "text/x-python",
   "name": "python",
   "nbconvert_exporter": "python",
   "pygments_lexer": "ipython3",
   "version": "3.8.8"
  }
 },
 "nbformat": 4,
 "nbformat_minor": 5
}
